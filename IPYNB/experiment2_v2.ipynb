{
 "cells": [
  {
   "cell_type": "markdown",
   "id": "9785cb4e",
   "metadata": {},
   "source": [
    "## Experiment 2\n",
    "\n",
    "Simulation, visulization, and shifting of superposition of a single qubit as noise patterns on a square canvas.\n",
    "This notebook is for further experimentation and adjustments within the scripts."
   ]
  },
  {
   "cell_type": "markdown",
   "id": "d5123d68",
   "metadata": {},
   "source": [
    "### Including all modules"
   ]
  },
  {
   "cell_type": "code",
   "execution_count": 1,
   "id": "5391df70",
   "metadata": {},
   "outputs": [],
   "source": [
    "# Qiskit for Quantum computation\n",
    "from qiskit import QuantumCircuit, Aer, transpile, execute\n",
    "from qiskit.providers.aer.noise import NoiseModel, QuantumError, ReadoutError, pauli_error\n",
    "\n",
    "# PILlow for image generation\n",
    "from PIL import Image, ImageColor\n",
    "\n",
    "# Handy math libraries\n",
    "import numpy as np\n",
    "import math\n",
    "\n",
    "# For saving files in current directory\n",
    "import os"
   ]
  },
  {
   "cell_type": "code",
   "execution_count": 2,
   "id": "dc60d061",
   "metadata": {},
   "outputs": [],
   "source": [
    "# Simulate Quantum computation\n",
    "\n",
    "def run_qc(circuit, backend, output, n_shots):\n",
    "\n",
    "    # -------------------------------------------------------------------------------\n",
    "    \n",
    "    # Build basic bit-flip error noise model\n",
    "\n",
    "    # Example error probabilities\n",
    "    p_reset = 0.03\n",
    "    p_meas = 0.1\n",
    "    p_gate1 = 0.05\n",
    "\n",
    "    # QuantumError objects\n",
    "    error_reset = pauli_error([('X', p_reset), ('I', 1 - p_reset)])\n",
    "    error_meas = pauli_error([('X',p_meas), ('I', 1 - p_meas)])\n",
    "    error_gate1 = pauli_error([('X',p_gate1), ('I', 1 - p_gate1)])\n",
    "    error_gate2 = error_gate1.tensor(error_gate1)\n",
    "\n",
    "    # Add errors to noise model\n",
    "    noise_bit_flip = NoiseModel()\n",
    "    noise_bit_flip.add_all_qubit_quantum_error(error_reset, \"reset\")\n",
    "    noise_bit_flip.add_all_qubit_quantum_error(error_meas, \"measure\")\n",
    "    noise_bit_flip.add_all_qubit_quantum_error(error_gate1, [\"u1\", \"u2\", \"u3\"])\n",
    "    noise_bit_flip.add_all_qubit_quantum_error(error_gate2, [\"cx\"])\n",
    "    \n",
    "    # -------------------------------------------------------------------------------\n",
    "    \n",
    "    # Execution and options\n",
    "    \n",
    "    # Load simulator (Aer)\n",
    "    backend_simulate = Aer.get_backend('aer_simulator')\n",
    "    \n",
    "    # Execute on Aer\n",
    "    if (backend == 'sim'):\n",
    "        run = execute(circuit,\n",
    "                      backend_simulate,\n",
    "                      shots = n_shots,\n",
    "                      memory = True).result()\n",
    "        if (output == 'count'):\n",
    "            out = run.get_counts()\n",
    "        if (output == 'memory'):\n",
    "            out = run.get_memory()\n",
    "    \n",
    "    # Execute on Aer + noise model\n",
    "    if (backend == 'sim_noise'):\n",
    "        run = execute(circuit,\n",
    "                      backend_simulate,\n",
    "                      noise_model=noise_bit_flip,\n",
    "                      shots = n_shots,\n",
    "                      memory = True).result()\n",
    "        if (output == 'count'):\n",
    "            out = run.get_counts()\n",
    "        if (output == 'memory'):\n",
    "            out = run.get_memory()\n",
    "\n",
    "    return out"
   ]
  },
  {
   "cell_type": "code",
   "execution_count": 3,
   "id": "4f1678b8",
   "metadata": {},
   "outputs": [],
   "source": [
    "# Map output values linear accoring to input values of x\n",
    "\n",
    "def lin_map(x, in_min, in_max, out_min, out_max):\n",
    "    if in_min == in_max:\n",
    "        return out_max / 2\n",
    "    else:\n",
    "        return (x - in_min) * (out_max - out_min) / (in_max - in_min) + out_min"
   ]
  },
  {
   "cell_type": "code",
   "execution_count": 4,
   "id": "d6409098",
   "metadata": {},
   "outputs": [],
   "source": [
    "# Generate output image\n",
    "\n",
    "def img_generating(data_vals, path):\n",
    "    a = int(len(data_vals) ** (1/2))\n",
    "    b = int(len(data_vals) ** (1/2))\n",
    "    c = int(len(data_vals[0]))\n",
    "    d = int(len(data_vals[0][0]))\n",
    "    img = Image.new('RGB', (a * c, b * d))\n",
    "\n",
    "    for i in range(a):\n",
    "        for j in range(b):\n",
    "            for k in range(c):\n",
    "                for l in range(d):\n",
    "                    color = int(data_vals[j + (a * i)][k][l] * 255) # [npatch index][npatch col][npatch row]\n",
    "                    img.putpixel(((k + (j * c)), l + (i * d)), (color, color, color)) # (x, y, rgb color)\n",
    "\n",
    "    #img.show()\n",
    "    img.save(path)"
   ]
  },
  {
   "cell_type": "code",
   "execution_count": 5,
   "id": "a28cf283",
   "metadata": {},
   "outputs": [],
   "source": [
    "# Generate episodic image of radiant-regulated noise pattern\n",
    "\n",
    "def sample_noise(phase, size, n_frames, path):\n",
    "    for m in range(n_frames):\n",
    "        data_out = []\n",
    "        \n",
    "        # Quantum circuit\n",
    "        qc = QuantumCircuit(1)\n",
    "        qc.h(0)\n",
    "        qc.ry(math.pi * phase, 0)\n",
    "        qc.measure_all()\n",
    "\n",
    "        # Measurements\n",
    "        result = run_qc(qc, 'sim', 'memory', size ** 2)\n",
    "        result = np.reshape(result, (size, size)).astype(float)\n",
    "        data_out.append(result)\n",
    "        \n",
    "        # Image assembling\n",
    "        img_generating(data_out, path)"
   ]
  },
  {
   "cell_type": "markdown",
   "id": "269fb837",
   "metadata": {},
   "source": [
    "### Execution of functions with different iterative variations"
   ]
  },
  {
   "cell_type": "code",
   "execution_count": 9,
   "id": "65616ef7",
   "metadata": {},
   "outputs": [],
   "source": [
    "# Single exection of sample_noise with certain phase\n",
    "\n",
    "phase = 1.0\n",
    "sidelength = 20\n",
    "\n",
    "phase_as_str = str(round(phase, 2)).replace('.', 'pt')\n",
    "sample_noise(phase, sidelength, n_frames, f'range_{phase_as_str}_{sidelength}x{sidelength}px.png')"
   ]
  },
  {
   "cell_type": "code",
   "execution_count": 7,
   "id": "ca1689a4",
   "metadata": {},
   "outputs": [],
   "source": [
    "# Iterative exection of sample_noise with a linear range \n",
    "\n",
    "p_min = 0.0\n",
    "p_max = 2.0\n",
    "samples = 40\n",
    "sidelength = 20\n",
    "\n",
    "# multiple frames per execution for potential animations\n",
    "n_frames = 1\n",
    "\n",
    "# Sampling from linear space\n",
    "phases = np.linspace(p_min, p_max, num=samples, endpoint=True)\n",
    "\n",
    "for i in range(len(phases)):\n",
    "    phase_as_str = str('{:.2f}'.format(round(phases[i], 2))).replace('.', 'pt')\n",
    "    sample_noise(phases[i], sidelength, n_frames, f'range_{phase_as_str}_{sidelength}x{sidelength}px.png')"
   ]
  }
 ],
 "metadata": {
  "kernelspec": {
   "display_name": "Python 3 (ipykernel)",
   "language": "python",
   "name": "python3"
  },
  "language_info": {
   "codemirror_mode": {
    "name": "ipython",
    "version": 3
   },
   "file_extension": ".py",
   "mimetype": "text/x-python",
   "name": "python",
   "nbconvert_exporter": "python",
   "pygments_lexer": "ipython3",
   "version": "3.8.13"
  }
 },
 "nbformat": 4,
 "nbformat_minor": 5
}
