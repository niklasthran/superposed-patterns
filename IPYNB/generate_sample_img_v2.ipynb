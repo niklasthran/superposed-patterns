{
 "cells": [
  {
   "cell_type": "markdown",
   "id": "db000d7a",
   "metadata": {},
   "source": [
    "## Generate sample images\n",
    "\n",
    "Automatically create an array of different sample images for e. g. testing in experiment3.py.\n",
    "This notebook is for further experimentation and adjustments within the scripts."
   ]
  },
  {
   "cell_type": "markdown",
   "id": "f81ae699",
   "metadata": {},
   "source": [
    "### Including all modules"
   ]
  },
  {
   "cell_type": "code",
   "execution_count": 3,
   "id": "426c3242",
   "metadata": {},
   "outputs": [],
   "source": [
    "# PILlow for image generation\n",
    "from PIL import Image, ImageColor, ImageDraw, ImageFont, ImageOps"
   ]
  },
  {
   "cell_type": "markdown",
   "id": "69b3397d",
   "metadata": {},
   "source": [
    "### Base funtions"
   ]
  },
  {
   "cell_type": "code",
   "execution_count": 4,
   "id": "f3d851d7",
   "metadata": {},
   "outputs": [],
   "source": [
    "def lin_map(x, in_min, in_max, out_min, out_max):\n",
    "    if in_min == in_max:\n",
    "        return out_max / 2\n",
    "    else:\n",
    "        return (x - in_min) * (out_max - out_min) / (in_max - in_min) + out_min"
   ]
  },
  {
   "cell_type": "code",
   "execution_count": 5,
   "id": "33983447",
   "metadata": {},
   "outputs": [],
   "source": [
    "def step(x, w, out_min, out_max):\n",
    "    if x < w / 2:\n",
    "        return out_min\n",
    "    if x >= w / 2:\n",
    "        return out_max"
   ]
  },
  {
   "cell_type": "code",
   "execution_count": 6,
   "id": "3e505ef3",
   "metadata": {},
   "outputs": [],
   "source": [
    "def step_div(x, y, w, out_min, out_max):\n",
    "    if x < w / 2 and y < w / 2 or x >= w / 2 and y >= w / 2:\n",
    "        return out_max\n",
    "    if x < w / 2 and y >= w / 2 or x >= w / 2 and y < w / 2:\n",
    "        return out_min"
   ]
  },
  {
   "cell_type": "code",
   "execution_count": 7,
   "id": "889fa374",
   "metadata": {},
   "outputs": [],
   "source": [
    "def dist(x, y):\n",
    "    return (x - (y - 1) / 2) ** 2"
   ]
  },
  {
   "cell_type": "markdown",
   "id": "0303f718",
   "metadata": {},
   "source": [
    "### Generate sample images using base functions above"
   ]
  },
  {
   "cell_type": "code",
   "execution_count": 8,
   "id": "775c32e9",
   "metadata": {},
   "outputs": [],
   "source": [
    "# Linear interpolation, orthogonal\n",
    "\n",
    "def cont_interp_orth(a, path):\n",
    "    img = Image.new('RGB', (a, a))\n",
    "    for i in range(a):\n",
    "        for j in range(a):\n",
    "            c = int(lin_map(i, 0, a, 0, 255))\n",
    "            img.putpixel((i, j), (c, c, c))\n",
    "\n",
    "    #img.show()\n",
    "    img.save(f'{path}/sample_cont_interp_orth_0_{a}x{a}px.png')\n",
    "    img = img.rotate(90)\n",
    "    img.save(f'{path}/sample_cont_interp_orth_90_{a}x{a}px.png')\n",
    "    img = img.rotate(180)\n",
    "    img.save(f'{path}/sample_cont_interp_orth_180_{a}x{a}px.png')\n",
    "    img = img.rotate(270)\n",
    "    img.save(f'{path}/sample_cont_interp_orth_270_{a}x{a}px.png')"
   ]
  },
  {
   "cell_type": "code",
   "execution_count": 9,
   "id": "0b1ee2b6",
   "metadata": {},
   "outputs": [],
   "source": [
    "# Linear interpolation diagonal\n",
    "\n",
    "def cont_interp_dia(a, path):\n",
    "    img = Image.new('RGB', (a, a))\n",
    "    for i in range(a):\n",
    "        for j in range(a):\n",
    "            c = int(lin_map((i + j) / 2, 0, a, 0, 255))\n",
    "            img.putpixel((i, j), (c, c, c))\n",
    "\n",
    "    #img.show()\n",
    "    img.save(f'{path}/sample_cont_interp_dia_0_{a}x{a}px.png')\n",
    "    img = img.rotate(90)\n",
    "    img.save(f'{path}/sample_cont_interp_dia_90_{a}x{a}px.png')\n",
    "    img = img.rotate(180)\n",
    "    img.save(f'{path}/sample_cont_interp_dia_180_{a}x{a}px.png')\n",
    "    img = img.rotate(270)\n",
    "    img.save(f'{path}/sample_cont_interp_dia_270_{a}x{a}px.png')"
   ]
  },
  {
   "cell_type": "code",
   "execution_count": 10,
   "id": "e0e88949",
   "metadata": {},
   "outputs": [],
   "source": [
    "# Radial gradient\n",
    "\n",
    "def cont_interp_rad(a, path):\n",
    "    img = Image.new('RGB', (a, a))\n",
    "    for i in range(a):\n",
    "        for j in range(a):\n",
    "            d = lin_map(dist(i, a) + dist(j, a), dist(a / 2, a) * 2, dist(0, a) * 2, 0, 1)\n",
    "            d = d ** (1 / 2)\n",
    "            color = int(d * 255)\n",
    "            img.putpixel((i, j), (color, color, color))\n",
    "\n",
    "    #img.show()\n",
    "    img.save(f'{path}/sample_cont_interp_rad_{a}x{a}px.png')\n",
    "    img = ImageOps.invert(img)\n",
    "    img.save(f'{path}/sample_cont_interp_rad_inv_{a}x{a}px.png')"
   ]
  },
  {
   "cell_type": "code",
   "execution_count": 11,
   "id": "5777e931",
   "metadata": {},
   "outputs": [],
   "source": [
    "# Step orthogonal\n",
    "\n",
    "def disc_orth(a, path):\n",
    "    img = Image.new('RGB', (a, a))\n",
    "    for i in range(a):\n",
    "        for j in range(a):\n",
    "            c = int(step(i, a, 0, 255))\n",
    "            img.putpixel((i, j), (c, c, c))\n",
    "\n",
    "    #img.show()\n",
    "    img.save(f'{path}/sample_disc_orth_0_{a}x{a}px.png')\n",
    "    img = img.rotate(90)\n",
    "    img.save(f'{path}/sample_disc_orth_90_{a}x{a}px.png')\n",
    "    img = img.rotate(180)\n",
    "    img.save(f'{path}/sample_disc_orth_180_{a}x{a}px.png')\n",
    "    img = img.rotate(270)\n",
    "    img.save(f'{path}/sample_disc_orth_270_{a}x{a}px.png')"
   ]
  },
  {
   "cell_type": "code",
   "execution_count": 12,
   "id": "b3db3702",
   "metadata": {},
   "outputs": [],
   "source": [
    "# Step diagonal\n",
    "\n",
    "def disc_dia(a, path):\n",
    "    img = Image.new('RGB', (a, a))\n",
    "    for i in range(a):\n",
    "        for j in range(a):\n",
    "            c = int(step((i + j) / 2, a, 0, 255))\n",
    "            img.putpixel((i, j), (c, c, c))\n",
    "\n",
    "    #img.show()\n",
    "    img.save(f'{path}/sample_disc_dia_0_{a}x{a}px.png')\n",
    "    img = img.rotate(90)\n",
    "    img.save(f'{path}/sample_disc_dia_90_{a}x{a}px.png')\n",
    "    img = img.rotate(180)\n",
    "    img.save(f'{path}/sample_disc_dia_180_{a}x{a}px.png')\n",
    "    img = img.rotate(270)\n",
    "    img.save(f'{path}/sample_disc_dia_270_{a}x{a}px.png')"
   ]
  },
  {
   "cell_type": "code",
   "execution_count": 13,
   "id": "7f451db6",
   "metadata": {},
   "outputs": [],
   "source": [
    "# Checkerboard pattern\n",
    "\n",
    "def disc_checker(a, path):\n",
    "    img = Image.new('RGB', (a, a))\n",
    "    for i in range(a):\n",
    "        for j in range(a):\n",
    "            c = int(step_div(i, j, a, 0, 255))\n",
    "            img.putpixel((i, j), (c, c, c))\n",
    "\n",
    "    #img.show()\n",
    "    img.save(f'{path}/sample_disc_checker_0_{a}x{a}px.png')\n",
    "    img = img.rotate(90)\n",
    "    img.save(f'{path}/sample_disc_checker_90_{a}x{a}px.png')"
   ]
  },
  {
   "cell_type": "code",
   "execution_count": 14,
   "id": "45d32dff",
   "metadata": {},
   "outputs": [],
   "source": [
    "# Alphanumeric\n",
    "\n",
    "def alphanum(txt, a, path):\n",
    "    font = ImageFont.truetype(\"Inter-Regular.ttf\", a)\n",
    "\n",
    "    img = Image.new('RGB', (a, a))\n",
    "    for i in range(a):\n",
    "        for j in range(a):\n",
    "            c = 255\n",
    "            img.putpixel((i, j), (c, c, c))\n",
    "\n",
    "    draw = ImageDraw.Draw(img)\n",
    "    draw.text(((a/2) - (font.getbbox(txt)[2]/2), (a/2) - ((font.getbbox(txt)[1] + font.getbbox(txt)[3])/2)), txt, (0, 0, 0), font)\n",
    "\n",
    "    #img.show()\n",
    "    img.save(f'{path}_{a}x{a}px.png')\n",
    "    img = ImageOps.invert(img)\n",
    "    #img.save(f'{path}_inv_{a}x{a}px.png')"
   ]
  },
  {
   "cell_type": "markdown",
   "id": "bcfa151c",
   "metadata": {},
   "source": [
    "### Generate images"
   ]
  },
  {
   "cell_type": "code",
   "execution_count": 15,
   "id": "52eae338",
   "metadata": {},
   "outputs": [],
   "source": [
    "sidelength = 16\n",
    "output_url = '/Users/niklas/Desktop/X_BA_Thesis/graphics/IPYNB/'"
   ]
  },
  {
   "cell_type": "code",
   "execution_count": 77,
   "id": "71f5b32a",
   "metadata": {},
   "outputs": [],
   "source": [
    "# Discrete\n",
    "disc_orth(sidelength, output_url)\n",
    "disc_dia(sidelength, output_url)\n",
    "disc_checker(sidelength, output_url)\n",
    "\n",
    "# Continuous\n",
    "cont_interp_orth(sidelength, output_url)\n",
    "cont_interp_dia(sidelength, output_url)\n",
    "cont_interp_rad(sidelength, output_url)"
   ]
  },
  {
   "cell_type": "code",
   "execution_count": 18,
   "id": "6ba4a8b9",
   "metadata": {},
   "outputs": [],
   "source": [
    "# Single letter\n",
    "\n",
    "# Alphanumeric\n",
    "alphanum(\"A\", sidelength, output_url)"
   ]
  },
  {
   "cell_type": "code",
   "execution_count": 24,
   "id": "725729eb",
   "metadata": {},
   "outputs": [],
   "source": [
    "# String processing\n",
    "\n",
    "# Define the word(s)\n",
    "new_word = 'Superponierte Muster'\n",
    "\n",
    "# Remove blank spaces\n",
    "new_word = list(new_word)\n",
    "for letter in new_word:\n",
    "    if letter == ' ':\n",
    "        new_word.remove(letter)\n",
    "    \n",
    "for i in range(len(new_word)):\n",
    "    alphanum(new_word[i], sidelength, f\"{output_url}/sample_alphanum_{i:02d}_{new_word[i]}\")"
   ]
  }
 ],
 "metadata": {
  "kernelspec": {
   "display_name": "Python 3 (ipykernel)",
   "language": "python",
   "name": "python3"
  },
  "language_info": {
   "codemirror_mode": {
    "name": "ipython",
    "version": 3
   },
   "file_extension": ".py",
   "mimetype": "text/x-python",
   "name": "python",
   "nbconvert_exporter": "python",
   "pygments_lexer": "ipython3",
   "version": "3.8.13"
  },
  "vscode": {
   "interpreter": {
    "hash": "18344d3ffba939158b88d3e224e2eecf7cf26b7635aec851a437dc31dc42c39b"
   }
  }
 },
 "nbformat": 4,
 "nbformat_minor": 5
}
