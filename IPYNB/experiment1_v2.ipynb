{
 "cells": [
  {
   "cell_type": "markdown",
   "id": "05433bfa",
   "metadata": {},
   "source": [
    "## Experiment 1\n",
    "\n",
    "Simulation and visualization of superposition of a single qubit as noise patterns on a canvas of variable size.\n",
    "This notebook is for further experimentation and adjustments within the scripts."
   ]
  },
  {
   "cell_type": "markdown",
   "id": "ed47e741",
   "metadata": {},
   "source": [
    "### Including all modules"
   ]
  },
  {
   "cell_type": "code",
   "execution_count": 1,
   "id": "5391df70",
   "metadata": {},
   "outputs": [],
   "source": [
    "# Qiskit for Quantum computation\n",
    "from qiskit import QuantumCircuit, Aer, transpile, execute\n",
    "from qiskit.providers.aer.noise import NoiseModel, QuantumError, ReadoutError, pauli_error\n",
    "\n",
    "# PILlow for image generation\n",
    "from PIL import Image, ImageColor\n",
    "\n",
    "# Handy math libraries\n",
    "import numpy as np\n",
    "import math\n",
    "\n",
    "# For saving files in current directory\n",
    "import os"
   ]
  },
  {
   "cell_type": "markdown",
   "id": "7279b6db",
   "metadata": {},
   "source": [
    "### Definition of all functions needed to execute the experiment"
   ]
  },
  {
   "cell_type": "code",
   "execution_count": 2,
   "id": "dc60d061",
   "metadata": {},
   "outputs": [],
   "source": [
    "# Simulate Quantum computation\n",
    "\n",
    "def run_qc(circuit, backend, output, n_shots):\n",
    "\n",
    "    # -------------------------------------------------------------------------------\n",
    "    \n",
    "    # Build basic bit-flip error noise model\n",
    "\n",
    "    # Example error probabilities\n",
    "    p_reset = 0.03\n",
    "    p_meas = 0.1\n",
    "    p_gate1 = 0.05\n",
    "\n",
    "    # QuantumError objects\n",
    "    error_reset = pauli_error([('X', p_reset), ('I', 1 - p_reset)])\n",
    "    error_meas = pauli_error([('X',p_meas), ('I', 1 - p_meas)])\n",
    "    error_gate1 = pauli_error([('X',p_gate1), ('I', 1 - p_gate1)])\n",
    "    error_gate2 = error_gate1.tensor(error_gate1)\n",
    "\n",
    "    # Add errors to noise model\n",
    "    noise_bit_flip = NoiseModel()\n",
    "    noise_bit_flip.add_all_qubit_quantum_error(error_reset, \"reset\")\n",
    "    noise_bit_flip.add_all_qubit_quantum_error(error_meas, \"measure\")\n",
    "    noise_bit_flip.add_all_qubit_quantum_error(error_gate1, [\"u1\", \"u2\", \"u3\"])\n",
    "    noise_bit_flip.add_all_qubit_quantum_error(error_gate2, [\"cx\"])\n",
    "    \n",
    "    # -------------------------------------------------------------------------------\n",
    "    \n",
    "    # Execution and options\n",
    "    \n",
    "    # Load simulator (Aer)\n",
    "    backend_simulate = Aer.get_backend('aer_simulator')\n",
    "    \n",
    "    # Execute on Aer\n",
    "    if (backend == 'sim'):\n",
    "        run = execute(circuit,\n",
    "                      backend_simulate,\n",
    "                      shots = n_shots,\n",
    "                      memory = True).result()\n",
    "        if (output == 'count'):\n",
    "            out = run.get_counts()\n",
    "        if (output == 'memory'):\n",
    "            out = run.get_memory()\n",
    "    \n",
    "    # Execute on Aer + noise model\n",
    "    if (backend == 'sim_noise'):\n",
    "        run = execute(circuit,\n",
    "                      backend_simulate,\n",
    "                      noise_model=noise_bit_flip,\n",
    "                      shots = n_shots,\n",
    "                      memory = True).result()\n",
    "        if (output == 'count'):\n",
    "            out = run.get_counts()\n",
    "        if (output == 'memory'):\n",
    "            out = run.get_memory()\n",
    "\n",
    "    return out"
   ]
  },
  {
   "cell_type": "code",
   "execution_count": 3,
   "id": "a28cf283",
   "metadata": {},
   "outputs": [],
   "source": [
    "# Generate EPISODIC image\n",
    "\n",
    "def sample_noise_episodic(sidelength, path):\n",
    "    data_out = []\n",
    "    \n",
    "    # Quantum circuit\n",
    "    qc = QuantumCircuit(1)\n",
    "    qc.h(0)\n",
    "    qc.measure_all()\n",
    "\n",
    "    # Measurements\n",
    "    result = run_qc(qc, 'sim', 'memory', sidelength ** 2)\n",
    "    result = np.reshape(result, (sidelength, sidelength)).astype(float)\n",
    "    data_out.append(result)\n",
    "    \n",
    "    # Image assembling\n",
    "    a = int(len(data_out) ** (1/2))\n",
    "    b = int(len(data_out) ** (1/2))\n",
    "    c = int(len(data_out[0]))\n",
    "    d = int(len(data_out[0][0]))\n",
    "    \n",
    "    img = Image.new('RGB', (a * c, b * d))\n",
    "    for i in range(a):\n",
    "        for j in range(b):\n",
    "            for k in range(c):\n",
    "                for l in range(d):\n",
    "                    color = int(data_out[j + (a * i)][k][l] * 255)\n",
    "                    img.putpixel(((k + (j * c)), l + (i * d)), (color, color, color))\n",
    "            \n",
    "    #img.show()\n",
    "    img.save(path)"
   ]
  },
  {
   "cell_type": "code",
   "execution_count": 4,
   "id": "80695744",
   "metadata": {},
   "outputs": [],
   "source": [
    "# Generate CONTINUOUS image\n",
    "\n",
    "def sample_noise_continous(sidelength, width, path):\n",
    "    data_out = []\n",
    "    \n",
    "    # Quantum circuit\n",
    "    for i in range(width):\n",
    "        qc = QuantumCircuit(1)\n",
    "        qc.h(0)\n",
    "        qc.measure_all()\n",
    "\n",
    "        # Measurements\n",
    "        result = run_qc(qc, 'sim', 'memory', sidelength)\n",
    "        data_out.append(result)\n",
    "    \n",
    "    # Image assembling\n",
    "    img = Image.new('RGB', (width, sidelength))\n",
    "    for j in range(sidelength):\n",
    "        for k in range(width):\n",
    "            color = int(int(data_out[k][j]) * 255)\n",
    "            img.putpixel((k, j), (color, color, color))\n",
    "    \n",
    "    #img.show()\n",
    "    img.save(path)"
   ]
  },
  {
   "cell_type": "markdown",
   "id": "3ebaa9f3",
   "metadata": {},
   "source": [
    "### Execution of functions with different iterative variations"
   ]
  },
  {
   "cell_type": "code",
   "execution_count": 105,
   "id": "ca1689a4",
   "metadata": {},
   "outputs": [],
   "source": [
    "# Exectution sample_noise_episodic\n",
    "\n",
    "sidelength = 20\n",
    "\n",
    "sample_noise_episodic(sidelength, f\"episodic_{sidelength}x{sidelength}px.png\")"
   ]
  },
  {
   "cell_type": "code",
   "execution_count": 6,
   "id": "fb1134b5",
   "metadata": {},
   "outputs": [],
   "source": [
    "#Execution sample_noise_episodic in a loop\n",
    "\n",
    "# increasing sidelength 1*2, ..., 4*2 \n",
    "for sidelength in range(1, 5):\n",
    "    \n",
    "    # repetition of execution = 4 images per sidelength\n",
    "    for num_exe in range(4):\n",
    "        sample_noise_episodic(2 * sidelength, f'episodic_{2 * sidelength}x{2 * sidelength}_{num_exe}.png')"
   ]
  },
  {
   "cell_type": "code",
   "execution_count": 108,
   "id": "c39400a1",
   "metadata": {},
   "outputs": [],
   "source": [
    "# Execution sample_noise_continuous\n",
    "\n",
    "width = 200\n",
    "sidelength = 20\n",
    "\n",
    "sample_noise_continous(sidelength, width, f'continous_{sidelength}x{width}px.png')"
   ]
  }
 ],
 "metadata": {
  "kernelspec": {
   "display_name": "Python 3 (ipykernel)",
   "language": "python",
   "name": "python3"
  },
  "language_info": {
   "codemirror_mode": {
    "name": "ipython",
    "version": 3
   },
   "file_extension": ".py",
   "mimetype": "text/x-python",
   "name": "python",
   "nbconvert_exporter": "python",
   "pygments_lexer": "ipython3",
   "version": "3.8.13"
  }
 },
 "nbformat": 4,
 "nbformat_minor": 5
}
